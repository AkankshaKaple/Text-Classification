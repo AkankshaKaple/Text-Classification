{
 "cells": [
  {
   "cell_type": "code",
   "execution_count": 1,
   "metadata": {},
   "outputs": [],
   "source": [
    "import pandas as pd\n",
    "import pickle"
   ]
  },
  {
   "cell_type": "code",
   "execution_count": 2,
   "metadata": {},
   "outputs": [
    {
     "data": {
      "text/plain": [
       "(153164, 1)"
      ]
     },
     "execution_count": 2,
     "metadata": {},
     "output_type": "execute_result"
    }
   ],
   "source": [
    "data = pd.read_csv(\"/home/akanksha/Akanksha/Assignments/securly_Classification/dataset/test.csv\")\n",
    "\n",
    "data.drop(columns=['id'], inplace=True)\n",
    "\n",
    "toxic_words = ['toxic', 'severe_toxic', 'obscene', 'threat', 'insult', 'identity_hate']\n",
    "\n",
    "data.shape"
   ]
  },
  {
   "cell_type": "code",
   "execution_count": 3,
   "metadata": {},
   "outputs": [],
   "source": [
    "from nltk.corpus import stopwords\n",
    "import re\n",
    "from nltk.stem import PorterStemmer\n",
    "\n",
    "porter = PorterStemmer()\n",
    "\n",
    "stop_words = stopwords.words('english')\n",
    "\n",
    "stop_words.append(\"hi\")\n",
    "stop_words.append(\"u\")\n",
    "\n",
    "TEXT_CLEANING_RE = \"@\\S+|https?:\\S+|http?:\\S|[^A-Za-z]+\"\n",
    "\n",
    "\n",
    "# Function to remove unwanted data and stop words. \n",
    "# Also it tokenizes the data to converts the words in it's stem form.\n",
    "def preprocess(text):\n",
    "    text = re.sub(TEXT_CLEANING_RE, ' ', str(text).lower()).strip().split()\n",
    "    tokens = [porter.stem(token) for token in text if token not in stop_words]\n",
    "    return \" \".join(tokens)"
   ]
  },
  {
   "cell_type": "code",
   "execution_count": 4,
   "metadata": {},
   "outputs": [
    {
     "name": "stdout",
     "output_type": "stream",
     "text": [
      "CPU times: user 1min 42s, sys: 171 ms, total: 1min 43s\n",
      "Wall time: 1min 43s\n"
     ]
    }
   ],
   "source": [
    "%%time\n",
    "data['text'] = data.comment_text.apply(lambda x: preprocess(x))"
   ]
  },
  {
   "cell_type": "code",
   "execution_count": 5,
   "metadata": {},
   "outputs": [],
   "source": [
    "vectorization = pickle.load(open('vectorizer.pickle', 'rb'))\n",
    "\n",
    "top_phrases = vectorization['top_phrases']\n",
    "vectorizer = vectorization['vectorizer']"
   ]
  },
  {
   "cell_type": "code",
   "execution_count": 6,
   "metadata": {},
   "outputs": [],
   "source": [
    "vectorized_data = vectorizer.transform(data['text'])"
   ]
  },
  {
   "cell_type": "code",
   "execution_count": 7,
   "metadata": {},
   "outputs": [],
   "source": [
    "models = dict()\n",
    "for category in toxic_words:\n",
    "    model = pickle.load(open('Logistic_Regression/' + category + '.pickle', 'rb'))\n",
    "    classifier = model[category]\n",
    "    models[category] = classifier"
   ]
  },
  {
   "cell_type": "code",
   "execution_count": 8,
   "metadata": {},
   "outputs": [
    {
     "name": "stdout",
     "output_type": "stream",
     "text": [
      "CPU times: user 5min 33s, sys: 509 ms, total: 5min 33s\n",
      "Wall time: 5min 33s\n"
     ]
    }
   ],
   "source": [
    "%%time\n",
    "\n",
    "result_category = []\n",
    "for i in range(len(data)):\n",
    "    result = []    \n",
    "    for category in toxic_words:\n",
    "        temp2 = []\n",
    "        classifier = models[category]\n",
    "        pred = classifier.predict(vectorized_data[i])\n",
    "        if 1 in pred:\n",
    "            result.append(category)            \n",
    "    result_category.append(result)"
   ]
  },
  {
   "cell_type": "code",
   "execution_count": 9,
   "metadata": {},
   "outputs": [],
   "source": [
    "data['Result_Categories'] = result_category"
   ]
  },
  {
   "cell_type": "code",
   "execution_count": 10,
   "metadata": {},
   "outputs": [
    {
     "name": "stdout",
     "output_type": "stream",
     "text": [
      "CPU times: user 3.75 s, sys: 7.97 ms, total: 3.75 s\n",
      "Wall time: 3.75 s\n"
     ]
    }
   ],
   "source": [
    "%%time\n",
    "\n",
    "result = []\n",
    "for i in range(len(data)):\n",
    "    res = []\n",
    "    if len(data['Result_Categories']) > 0:\n",
    "        for category in data['Result_Categories'][i]:\n",
    "            tokens = data['text'][i].split()\n",
    "            for token in tokens:\n",
    "                if token in top_phrases[category] and token not in res:            \n",
    "                    res.append(token)\n",
    "        result.append(res)\n",
    "    else:\n",
    "        res.append([\" \"])"
   ]
  },
  {
   "cell_type": "code",
   "execution_count": 11,
   "metadata": {},
   "outputs": [],
   "source": [
    "data['Top_Phrases'] = result"
   ]
  },
  {
   "cell_type": "code",
   "execution_count": 12,
   "metadata": {},
   "outputs": [
    {
     "data": {
      "text/html": [
       "<div>\n",
       "<style scoped>\n",
       "    .dataframe tbody tr th:only-of-type {\n",
       "        vertical-align: middle;\n",
       "    }\n",
       "\n",
       "    .dataframe tbody tr th {\n",
       "        vertical-align: top;\n",
       "    }\n",
       "\n",
       "    .dataframe thead th {\n",
       "        text-align: right;\n",
       "    }\n",
       "</style>\n",
       "<table border=\"1\" class=\"dataframe\">\n",
       "  <thead>\n",
       "    <tr style=\"text-align: right;\">\n",
       "      <th></th>\n",
       "      <th>comment_text</th>\n",
       "      <th>text</th>\n",
       "      <th>Result_Categories</th>\n",
       "      <th>Top_Phrases</th>\n",
       "    </tr>\n",
       "  </thead>\n",
       "  <tbody>\n",
       "    <tr>\n",
       "      <th>0</th>\n",
       "      <td>Yo bitch Ja Rule is more succesful then you'll...</td>\n",
       "      <td>yo bitch ja rule succes ever what hate sad mof...</td>\n",
       "      <td>[toxic, obscene, insult]</td>\n",
       "      <td>[get, ass, shit, bitch]</td>\n",
       "    </tr>\n",
       "    <tr>\n",
       "      <th>1</th>\n",
       "      <td>== From RfC == \\n\\n The title is fine as it is...</td>\n",
       "      <td>rfc titl fine imo</td>\n",
       "      <td>[]</td>\n",
       "      <td>[]</td>\n",
       "    </tr>\n",
       "    <tr>\n",
       "      <th>2</th>\n",
       "      <td>\" \\n\\n == Sources == \\n\\n * Zawe Ashton on Lap...</td>\n",
       "      <td>sourc zaw ashton lapland</td>\n",
       "      <td>[]</td>\n",
       "      <td>[]</td>\n",
       "    </tr>\n",
       "    <tr>\n",
       "      <th>3</th>\n",
       "      <td>:If you have a look back at the source, the in...</td>\n",
       "      <td>look back sourc inform updat correct form gues...</td>\n",
       "      <td>[]</td>\n",
       "      <td>[]</td>\n",
       "    </tr>\n",
       "    <tr>\n",
       "      <th>4</th>\n",
       "      <td>I don't anonymously edit articles at all.</td>\n",
       "      <td>anonym edit articl</td>\n",
       "      <td>[]</td>\n",
       "      <td>[]</td>\n",
       "    </tr>\n",
       "  </tbody>\n",
       "</table>\n",
       "</div>"
      ],
      "text/plain": [
       "                                        comment_text  \\\n",
       "0  Yo bitch Ja Rule is more succesful then you'll...   \n",
       "1  == From RfC == \\n\\n The title is fine as it is...   \n",
       "2  \" \\n\\n == Sources == \\n\\n * Zawe Ashton on Lap...   \n",
       "3  :If you have a look back at the source, the in...   \n",
       "4          I don't anonymously edit articles at all.   \n",
       "\n",
       "                                                text  \\\n",
       "0  yo bitch ja rule succes ever what hate sad mof...   \n",
       "1                                  rfc titl fine imo   \n",
       "2                           sourc zaw ashton lapland   \n",
       "3  look back sourc inform updat correct form gues...   \n",
       "4                                 anonym edit articl   \n",
       "\n",
       "          Result_Categories              Top_Phrases  \n",
       "0  [toxic, obscene, insult]  [get, ass, shit, bitch]  \n",
       "1                        []                       []  \n",
       "2                        []                       []  \n",
       "3                        []                       []  \n",
       "4                        []                       []  "
      ]
     },
     "execution_count": 12,
     "metadata": {},
     "output_type": "execute_result"
    }
   ],
   "source": [
    "data.head()"
   ]
  },
  {
   "cell_type": "code",
   "execution_count": 13,
   "metadata": {},
   "outputs": [],
   "source": [
    "data.to_csv(\"Result.csv\")"
   ]
  }
 ],
 "metadata": {
  "kernelspec": {
   "display_name": "Python 3",
   "language": "python",
   "name": "python3"
  },
  "language_info": {
   "codemirror_mode": {
    "name": "ipython",
    "version": 3
   },
   "file_extension": ".py",
   "mimetype": "text/x-python",
   "name": "python",
   "nbconvert_exporter": "python",
   "pygments_lexer": "ipython3",
   "version": "3.8.3"
  }
 },
 "nbformat": 4,
 "nbformat_minor": 4
}
